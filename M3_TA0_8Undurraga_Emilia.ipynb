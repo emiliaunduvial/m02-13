{
  "nbformat": 4,
  "nbformat_minor": 0,
  "metadata": {
    "colab": {
      "provenance": [],
      "include_colab_link": true
    },
    "kernelspec": {
      "name": "python3",
      "display_name": "Python 3"
    },
    "language_info": {
      "name": "python"
    }
  },
  "cells": [
    {
      "cell_type": "markdown",
      "metadata": {
        "id": "view-in-github",
        "colab_type": "text"
      },
      "source": [
        "<a href=\"https://colab.research.google.com/github/emiliaunduvial/m02-13/blob/main/M3_TA0_8Undurraga_Emilia.ipynb\" target=\"_parent\"><img src=\"https://colab.research.google.com/assets/colab-badge.svg\" alt=\"Open In Colab\"/></a>"
      ]
    },
    {
      "cell_type": "markdown",
      "source": [],
      "metadata": {
        "id": "aIAAjsvEwffQ"
      }
    },
    {
      "cell_type": "markdown",
      "source": [
        "# **💻  Ayudantía 9: Introducción a Python** 💻 \n"
      ],
      "metadata": {
        "id": "9nlrWi7Lx-HF"
      }
    },
    {
      "cell_type": "markdown",
      "source": [
        "A partir de ahora la materia se pasarán ejercicios por Google Colab. Tienen que realizar una **copia personal de este archivo en Drive** y hacer los ejercicios en las cajas indicadas. \n",
        "Realizar estos ejercicios les dará:\n",
        "\n",
        "\n",
        "*   **5 décimas** si lo entregan hoy hasta las 23:59\n",
        "*   **2 décimas** si lo entregan hasta el viernes a las 23:59\n",
        "\n",
        "Las décimas serán para los ejercicios con nota de toda la parte de python. Se recomienda **realizar esta guía porque se espera que sepan la materia para las próximas tareas con nota**.\n"
      ],
      "metadata": {
        "id": "UaY4UAFy9XVw"
      }
    },
    {
      "cell_type": "code",
      "source": [
        "#esto es un ejemplo de caja de código, rellénalas cuando se te indique."
      ],
      "metadata": {
        "id": "PxBVy7Q-OqWn"
      },
      "execution_count": null,
      "outputs": []
    },
    {
      "cell_type": "markdown",
      "source": [
        "Recuerda que para correr un código, tienes que apretar el ícono play que se \n",
        "encuentra dentro de cada caja de código, al lado izquierdo (solo aparece al pasar el puntero por encima de la caja)"
      ],
      "metadata": {
        "id": "eYU_4-XPcF5W"
      }
    },
    {
      "cell_type": "markdown",
      "source": [
        "#### ⭐️**Ejercicio 0: Dale play a este código**⭐️"
      ],
      "metadata": {
        "id": "kJuYvg2MyWop"
      }
    },
    {
      "cell_type": "markdown",
      "source": [
        "Este es el primer ejercicio de la ayudantía, solo tienes que correr este código para completarlo."
      ],
      "metadata": {
        "id": "wsG25QJnysLr"
      }
    },
    {
      "cell_type": "code",
      "source": [
        "print(\"Dale play con el botón a la izquierda de esta caja y eso es todo\")\n"
      ],
      "metadata": {
        "id": "w5T6ZAPLyWXM",
        "colab": {
          "base_uri": "https://localhost:8080/"
        },
        "outputId": "4167580d-29bd-4c9c-a7a2-41710be147d2"
      },
      "execution_count": 1,
      "outputs": [
        {
          "output_type": "stream",
          "name": "stdout",
          "text": [
            "Dale play con el botón a la izquierda de esta caja y eso es todo\n"
          ]
        }
      ]
    },
    {
      "cell_type": "markdown",
      "source": [
        "## **Prints** 👋🌎"
      ],
      "metadata": {
        "id": "uz59Wqmp_ANb"
      }
    },
    {
      "cell_type": "markdown",
      "source": [
        "Primero que todo, ¿cómo se comunica el código con el exterior? Esto es principalmente a través de *prints*. El comando `print()` hace que cualquier texto escrito dentro sea enviado al terminal donde estés trabajando.En el caso de Google Colab, se va a imprmir debajo de la caja de código, como se ve aquí:"
      ],
      "metadata": {
        "id": "o5zkP7jd_EGG"
      }
    },
    {
      "cell_type": "code",
      "source": [
        "print(\"Hola mundo!\")"
      ],
      "metadata": {
        "colab": {
          "base_uri": "https://localhost:8080/"
        },
        "id": "y78gIOk2x5lx",
        "outputId": "2b946d85-78fa-4311-b4a2-a0db2b6c5907"
      },
      "execution_count": null,
      "outputs": [
        {
          "output_type": "stream",
          "name": "stdout",
          "text": [
            "Hola mundo!\n"
          ]
        }
      ]
    },
    {
      "cell_type": "markdown",
      "source": [
        "Se puede colocar varios textos separados por `,` mientras cada texto quede entre comillas `\"\"`."
      ],
      "metadata": {
        "id": "YciWIWGMBBr1"
      }
    },
    {
      "cell_type": "code",
      "source": [
        "print(\"Hola mundo!\", \"Python es bacan\")"
      ],
      "metadata": {
        "colab": {
          "base_uri": "https://localhost:8080/"
        },
        "id": "Nv5NUc1Qt_QZ",
        "outputId": "81959817-f5db-4eba-c109-73b991538995"
      },
      "execution_count": null,
      "outputs": [
        {
          "output_type": "stream",
          "name": "stdout",
          "text": [
            "Hola mundo! Python es bacan\n"
          ]
        }
      ]
    },
    {
      "cell_type": "markdown",
      "source": [
        "Como también se pueden realizar varios prints, uno de bajo del otro para que sean escritos en líneas separadas. Es un equivalente a colocar `enter`:"
      ],
      "metadata": {
        "id": "r7SujTc6KKyf"
      }
    },
    {
      "cell_type": "code",
      "source": [
        "print(\"Hola\")\n",
        "print(\"mundo!\")\n",
        "print(\",cómo\")\n",
        "print(\"están?\")\n",
        "print()\n",
        "print(\"Muy bien, gracias!\")"
      ],
      "metadata": {
        "colab": {
          "base_uri": "https://localhost:8080/"
        },
        "id": "c_doq_-IKbh7",
        "outputId": "ccb69a1c-82d4-4d5b-a273-b1231d469dec"
      },
      "execution_count": null,
      "outputs": [
        {
          "output_type": "stream",
          "name": "stdout",
          "text": [
            "Hola\n",
            "mundo!\n",
            ",cómo\n",
            "están?\n",
            "\n",
            "muy bien, gracias!\n"
          ]
        }
      ]
    },
    {
      "cell_type": "markdown",
      "source": [
        "### ⭐️**Ej 1: Ahora te toca a ti. Haz tu primer print con tu nombre y apellido.** ⭐️"
      ],
      "metadata": {
        "id": "OZVMM5j8Cmqf"
      }
    },
    {
      "cell_type": "code",
      "source": [
        "print (\"Emilia Undurraga Vial\")"
      ],
      "metadata": {
        "id": "PM8_P3RXEDJq",
        "colab": {
          "base_uri": "https://localhost:8080/"
        },
        "outputId": "1a1ce33a-4221-44dc-9d4d-c3720a812146"
      },
      "execution_count": 3,
      "outputs": [
        {
          "output_type": "stream",
          "name": "stdout",
          "text": [
            "Emilia Undurraga Vial\n"
          ]
        }
      ]
    },
    {
      "cell_type": "markdown",
      "source": [
        "## **Variables** 👌"
      ],
      "metadata": {
        "id": "SrVm7IlNyeg9"
      }
    },
    {
      "cell_type": "markdown",
      "source": [
        "Dentro de los prints no sólo se pueden poner textos, sino también **variables**. Las variables no llevan comillas y se usan para **guardar datos**. Puden llamarse con un nombre (casi) cualquiera, como por ejemplo, la variable `saludo`:"
      ],
      "metadata": {
        "id": "0iNsiKyWEj8c"
      }
    },
    {
      "cell_type": "code",
      "source": [
        "saludo = \"Hola mundo!\"\n",
        "print(saludo)"
      ],
      "metadata": {
        "colab": {
          "base_uri": "https://localhost:8080/"
        },
        "id": "K25Gw3BXlwxG",
        "outputId": "a1e1edd8-4785-4c91-abab-a40031d0470a"
      },
      "execution_count": null,
      "outputs": [
        {
          "output_type": "stream",
          "name": "stdout",
          "text": [
            "Hola mundo!\n"
          ]
        }
      ]
    },
    {
      "cell_type": "markdown",
      "source": [
        "Como se puede observar, a pesar de estar programado de forma distinta, se llegó al mismo print del principio, esto es porque en vez de colocar el texto directo en el print, lo **guardamos primero** en una variable y luego la llamamos en el print. Podemos combinar los dos tipos de datos separados por una coma `,`. "
      ],
      "metadata": {
        "id": "t2HDeCrRE5am"
      }
    },
    {
      "cell_type": "code",
      "source": [
        "print(\"Hola mundo!\") \n",
        "\n",
        "saludo = \"Hola mundo!\"\n",
        "print(saludo)\n",
        "\n",
        "print(\"Hola mundo!\", saludo)"
      ],
      "metadata": {
        "colab": {
          "base_uri": "https://localhost:8080/"
        },
        "id": "NSFXBtk8FhlI",
        "outputId": "91dfa401-39e1-4fdf-9816-182201025cfa"
      },
      "execution_count": null,
      "outputs": [
        {
          "output_type": "stream",
          "name": "stdout",
          "text": [
            "Hola mundo!\n",
            "Hola mundo!\n",
            "Hola mundo! Hola mundo!\n"
          ]
        }
      ]
    },
    {
      "cell_type": "markdown",
      "source": [
        "**Las variables tienen restricciones para nombrarlas**, pues no pueden contener ciertos carácteres: Espacios entre letras, algunos signos, algunos nombres que se usen como comandos, etc. "
      ],
      "metadata": {
        "id": "lb4MdNkOYPoi"
      }
    },
    {
      "cell_type": "code",
      "source": [
        "#Todas esta variables van a generar error:\n",
        "\n",
        "mi_saludo = \"Hola mundo!\"     #error porque hay un espacio\n",
        "saludo = \"Hola mundo!\"       #error por signo ?\n",
        "saludo = \"Hola mundo!\"      #error por signo $!\n",
        "print = \"Hola mundo!\"         #error porque print ya es un comando existente\n",
        "\n",
        "\n",
        "mi_saludo = \"hola mundo\"      #correcto!, para imitar espacios se ocupa guión bajo, el cual si es un caracter permitido"
      ],
      "metadata": {
        "id": "JhdxaR5ma4EX"
      },
      "execution_count": 5,
      "outputs": []
    },
    {
      "cell_type": "markdown",
      "source": [
        "**Se pueden guardar muchos tipos de datos dentro de las variables:**"
      ],
      "metadata": {
        "id": "iFlL53piLQjO"
      }
    },
    {
      "cell_type": "code",
      "source": [
        "var_1 = \"Hola mundo!\"\n",
        "var_2 = 10\n",
        "var_3 = 0.4\n",
        "var_4 = True\n",
        "var_5 = []\n",
        "\n",
        "print( var_1, var_2, var_3, var_4)\n",
        "\n",
        "print( var_2, var_2, var_2)"
      ],
      "metadata": {
        "colab": {
          "base_uri": "https://localhost:8080/"
        },
        "id": "kQaPm66bvnkG",
        "outputId": "d70df63e-578c-48a5-9258-a8d1d65a8383"
      },
      "execution_count": null,
      "outputs": [
        {
          "output_type": "stream",
          "name": "stdout",
          "text": [
            "Hola mundo! 10 0.4 True\n",
            "10 10 10\n"
          ]
        }
      ]
    },
    {
      "cell_type": "markdown",
      "source": [
        "Las cuales se guardan y se pueden ocupar después en otras cajas de códigos (simepre y cuando apretes play a la caja que lo contiene):"
      ],
      "metadata": {
        "id": "5CaTqj4BPoPH"
      }
    },
    {
      "cell_type": "code",
      "source": [
        "print(\"Hola, la variable 1 anterior es\", var_1)\n",
        "print(\"La variable 2 es\", var_2)"
      ],
      "metadata": {
        "colab": {
          "base_uri": "https://localhost:8080/"
        },
        "id": "3tpDOMgGPv57",
        "outputId": "0466aae5-7aa9-43b6-9d4e-69850c116085"
      },
      "execution_count": null,
      "outputs": [
        {
          "output_type": "stream",
          "name": "stdout",
          "text": [
            "hola, la variable 1 anterior es Hola mundo!\n",
            " la variable 2 es 10\n"
          ]
        }
      ]
    },
    {
      "cell_type": "markdown",
      "source": [
        "## **Tipos de datos** 👆🤓"
      ],
      "metadata": {
        "id": "IB18IFjflExa"
      }
    },
    {
      "cell_type": "markdown",
      "source": [
        "Hay muchos tipos de datos, las cuales se dividen en strings `str`, integers `int` boolean `bool`, float \n",
        "`float` y list `[]` (hay muchos más, pero estos son los principales)."
      ],
      "metadata": {
        "id": "My1gXXKaMI0a"
      }
    },
    {
      "cell_type": "markdown",
      "source": [
        "### **Strings**📃"
      ],
      "metadata": {
        "id": "7XgJ7U5JHAL-"
      }
    },
    {
      "cell_type": "markdown",
      "source": [
        "Los strings o `str` son textos planos. Suelen ir entre comillas `\"\"`. Cualquier cosa que vaya entre comillas será considerado texto, sin importar el tipo de símbolo que sea (con algunas excepciones). "
      ],
      "metadata": {
        "id": "HX81j3vRH1zI"
      }
    },
    {
      "cell_type": "code",
      "source": [
        "print(var_1)  #la variable 1 anterior es un string\n",
        "texto_2 = \"tengo 3 gatitos\"   #SI es str\n",
        "texto_3 = \"10001\"             #Si es str\n",
        "texto_4 = \":D !?!=*¨^^\"       #Si es str\n",
        "\n",
        "print(texto_2, texto_3, texto_4)"
      ],
      "metadata": {
        "colab": {
          "base_uri": "https://localhost:8080/"
        },
        "id": "mk14nJ_TH1Z-",
        "outputId": "47f7c586-6c93-477a-e3cb-15b907c93016"
      },
      "execution_count": null,
      "outputs": [
        {
          "output_type": "stream",
          "name": "stdout",
          "text": [
            "Hola mundo!\n",
            "tengo 3 gatitos 10001 :D !?!=*¨^^\n"
          ]
        }
      ]
    },
    {
      "cell_type": "code",
      "source": [
        "texto_5 = hola mundo      #NO es str, ya que no está entre comillas es una variable, no un texto, \n",
        "                          #de hecho, va a dar un error si intentas correr el código "
      ],
      "metadata": {
        "id": "JX850Uv5S8GI"
      },
      "execution_count": null,
      "outputs": []
    },
    {
      "cell_type": "code",
      "source": [
        "texto_6 = 10              #NO es un str, la computadora lo toma como un número"
      ],
      "metadata": {
        "id": "szE-BKPdTSv9"
      },
      "execution_count": null,
      "outputs": []
    },
    {
      "cell_type": "code",
      "source": [
        "texto_7 = \"Hola muy buenas a todos, hoy les resentamos una ayudantìa de código, y este es un ejemplo de impresión de strings\"\n",
        "texto_8 = \"y los puedo juntar, duplicar, etc\"\n",
        "texto_9 = \"etc, etc, etc\"\n",
        "\n",
        "print(texto_7)\n",
        "print(texto_8, texto_9, texto_9, texto_9, texto_9,)\n",
        "print (texto_9, texto_9, texto_6, texto_2 )           #agregue textos de la caja anterior\n"
      ],
      "metadata": {
        "colab": {
          "base_uri": "https://localhost:8080/"
        },
        "id": "O9r1UEuWWNt_",
        "outputId": "ad49f136-3485-4920-d956-ebc3e2132a4c"
      },
      "execution_count": null,
      "outputs": [
        {
          "output_type": "stream",
          "name": "stdout",
          "text": [
            "Hola muy buenas a todos, hoy les resentamos una ayudantìa de código, y este es un ejemplo de impresión de strings\n",
            "y los puedo juntar, duplicar, etc etc, etc, etc etc, etc, etc etc, etc, etc etc, etc, etc\n",
            "etc, etc, etc etc, etc, etc 10 tengo 3 gatitos\n"
          ]
        }
      ]
    },
    {
      "cell_type": "markdown",
      "source": [
        "#### ⭐️**Ej 2: ¡Texto!**⭐️"
      ],
      "metadata": {
        "id": "RN_25q48VQ18"
      }
    },
    {
      "cell_type": "markdown",
      "source": [
        "Haz tres variables contando tu día de ayer e imprimelas; uno con lo que hiciste en la mañana, uno a medio día y uno en la noche."
      ],
      "metadata": {
        "id": "9UNrCLB3VZh5"
      }
    },
    {
      "cell_type": "code",
      "source": [
        "var_1= \"me ducho\"\n",
        "var_2 =\"estudie\"\n",
        "var_3 = \"compre materiales\"\n",
        "print(var_1)\n",
        "print(var_2)\n",
        "print(var_3)\n"
      ],
      "metadata": {
        "id": "IzuImZtXVuSY",
        "colab": {
          "base_uri": "https://localhost:8080/"
        },
        "outputId": "577b3a3a-637c-4dcd-c476-f4272c253616"
      },
      "execution_count": 1,
      "outputs": [
        {
          "output_type": "stream",
          "name": "stdout",
          "text": [
            "me ducho\n",
            "estudie\n",
            "compre materiales\n"
          ]
        }
      ]
    },
    {
      "cell_type": "markdown",
      "source": [
        "### Integers `int()`0️⃣ 1️⃣ 2️⃣ 3️⃣ "
      ],
      "metadata": {
        "id": "PUePEJ6xPI7E"
      }
    },
    {
      "cell_type": "markdown",
      "source": [
        "Son todos los números **enteros** [..-2, -1, 0, 1, 2..] ,, **sin comillas** y **sin decimales**. Son lo que la computadora lee como número, por lo que se pueden realizar operaciones matemáticas con ellas. En python, los simbolos al rededor de los números determina cómo el computador los trata, por lo que es muy importante escribirlos bien para evitar errores. Por ejemplo:"
      ],
      "metadata": {
        "id": "2lJZJZVTPPdf"
      }
    },
    {
      "cell_type": "code",
      "source": [],
      "metadata": {
        "id": "gvf-rRJKeGmk"
      },
      "execution_count": null,
      "outputs": []
    },
    {
      "cell_type": "code",
      "source": [
        "variable_1 = 10       #esto SI es un int\n",
        "variable_2 = -10      #esto SI es un int\n",
        "variable_3 = 10.0     #esto NO, es un float\n",
        "variable_4 = \"10\"     #esto NO, es un string"
      ],
      "metadata": {
        "id": "Edkk5W4fP_JQ"
      },
      "execution_count": null,
      "outputs": []
    },
    {
      "cell_type": "markdown",
      "source": [
        "Tambien puedes convertir variables numéricas de otros tipos a int con `int()`, como la variable 3 y 4."
      ],
      "metadata": {
        "id": "uR3N8eKAW_Og"
      }
    },
    {
      "cell_type": "code",
      "source": [
        "variable_3 = int(10.0)     #esto convierte un float en int\n",
        "variable_4 = int(\"10\")     #esto convierte un str en int"
      ],
      "metadata": {
        "id": "KHJtHkwLW6Er"
      },
      "execution_count": null,
      "outputs": []
    },
    {
      "cell_type": "code",
      "source": [
        "variable_0 = int(\"hola mundo\") #pero no va a funcionar con variables que no sean números enteros (si corres este código va a salir error)"
      ],
      "metadata": {
        "id": "VP3Vb6KGXqiO"
      },
      "execution_count": null,
      "outputs": []
    },
    {
      "cell_type": "markdown",
      "source": [
        "Como se mencionó anteriormente, los int son muy importantes porque con ellos puedes realizar operaciones matemáticas y conteos. Esto se muestra en el momento de realizar operaciones matemáticas como suma `+`, resta `-`, multiplicación `*` o división `/`."
      ],
      "metadata": {
        "id": "Ov2ZO3ytQ5kD"
      }
    },
    {
      "cell_type": "code",
      "source": [
        "multi = 10 * 3 * 4                          #Se pueden multiplicar numeros diretamente\n",
        "operacion = 40 - 3 * 50                      \n",
        "\n",
        "\n",
        "print(\"Voy a sumar\", multi, \"con\", operacion, \". Esto da\", multi + operacion )   #tambien se pueden realizar operaciones dentro del print"
      ],
      "metadata": {
        "colab": {
          "base_uri": "https://localhost:8080/"
        },
        "id": "-BZehh2kS55M",
        "outputId": "f0eea58a-a02d-4b8e-8d6e-0b6b6e54ea26"
      },
      "execution_count": null,
      "outputs": [
        {
          "output_type": "stream",
          "name": "stdout",
          "text": [
            "Voy a sumar 120 con -110 . Esto da 10\n"
          ]
        }
      ]
    },
    {
      "cell_type": "markdown",
      "source": [
        "Realizando operaciones con variables:"
      ],
      "metadata": {
        "id": "IPPagibbdF3b"
      }
    },
    {
      "cell_type": "code",
      "source": [
        "variable_1 = 10      \n",
        "variable_2 = -10    \n",
        "\n",
        "\n",
        "suma = variable_1 + variable_2                #suma de varibles INT\n",
        "suma_2 = variable_1 + variable_1 + variable_1 #puedes sumar la misma variable varias veces\n",
        "multiplicacion = variable_1 * variable_2     \n",
        "\n",
        "print(suma)\n",
        "print(suma_2)\n",
        "print( multiplicacion, multi_2, operacion)"
      ],
      "metadata": {
        "colab": {
          "base_uri": "https://localhost:8080/"
        },
        "id": "Vjcc7TkBc9rn",
        "outputId": "8a525643-6f2c-42be-9cf1-e6f898807848"
      },
      "execution_count": null,
      "outputs": [
        {
          "output_type": "stream",
          "name": "stdout",
          "text": [
            "0\n",
            "30\n",
            "-100 120 -110\n"
          ]
        }
      ]
    },
    {
      "cell_type": "markdown",
      "source": [
        "En cambio, si intentas sumar o multiplicar `str` van a salir cosas extrañas, para el computador, es un equivalente a multiplicar cualquier texto:\n",
        "\n",
        "\n"
      ],
      "metadata": {
        "id": "F3xhUu08gVZV"
      }
    },
    {
      "cell_type": "code",
      "source": [
        "numero_fake = \"23\"\n",
        "\n",
        "print(numero_fake * 3)  #si fuera un INT, te daría 69, peero..."
      ],
      "metadata": {
        "colab": {
          "base_uri": "https://localhost:8080/"
        },
        "id": "UFKm_ZumgVIX",
        "outputId": "feff4cc8-d9e0-456d-f871-110f52363a41"
      },
      "execution_count": null,
      "outputs": [
        {
          "output_type": "stream",
          "name": "stdout",
          "text": [
            "232323\n"
          ]
        }
      ]
    },
    {
      "cell_type": "code",
      "source": [
        "no_un_numero = \"a\"\n",
        "otra_cosa = \"jojojo\"\n",
        "\n",
        "print(no_un_numero * 3)  #qué pasa si multiplicamos letras?\n",
        "print(otra_cosa * 5)"
      ],
      "metadata": {
        "colab": {
          "base_uri": "https://localhost:8080/"
        },
        "id": "c-CCpYS0hLuZ",
        "outputId": "fb3e8611-daec-4a69-92db-bd21b8dcedca"
      },
      "execution_count": null,
      "outputs": [
        {
          "output_type": "stream",
          "name": "stdout",
          "text": [
            "aaa\n",
            "jojojojojojojojojojojojojojojo\n"
          ]
        }
      ]
    },
    {
      "cell_type": "markdown",
      "source": [
        "#### ⭐️**Ej 3: Sumando numeritos**⭐️\n",
        "Crea e imprime dos variables del tipo integer: **Tu edad y tu año de nacimiento**. Luego súmalos. e imprímelos. "
      ],
      "metadata": {
        "id": "bYqK3nIGTobi"
      }
    },
    {
      "cell_type": "code",
      "source": [
        "variable_1 = 20\n",
        "variable_1 = 2003\n",
        "print(variable_1 + variable_2)"
      ],
      "metadata": {
        "id": "V9SNuPWIQ_Ui"
      },
      "execution_count": null,
      "outputs": []
    },
    {
      "cell_type": "markdown",
      "source": [
        "### **Floats** float() 🧮"
      ],
      "metadata": {
        "id": "jUneUgJKHJd5"
      }
    },
    {
      "cell_type": "markdown",
      "source": [
        "Los Floats `float` también son números, pero **con decimales**. Se escriben como números con un punto (`0.1`, `10.2`, `20.0`). Funcionan muy parecido a los integers pero tienen otras propiedades. Muchas de estas propiedades tienen que ver con lógica, por lo que no las veremos en esta ayudantía."
      ],
      "metadata": {
        "id": "i3CuBTLvapBI"
      }
    },
    {
      "cell_type": "code",
      "source": [
        "decimal_1 = 0.12345     #un float decimal típico\n",
        "decimal_2 = 10.0        #un número entero, pero como tiene un decimal (aunque sea un .0), se convierte en float\n",
        "decimal_3 = 2/89        #las divisiones crean decimales\n",
        "decimal_4 = 8/2\n",
        "decimal_5 = \"0.1\"       #NO es un float, recordar que si está entre comillas es considerado un str y no funcionará como número\n",
        "\n",
        "print(decimal_3)\n"
      ],
      "metadata": {
        "id": "xzEhG-TuaoO5",
        "colab": {
          "base_uri": "https://localhost:8080/"
        },
        "outputId": "c0ca6a94-2dce-4f1a-e47c-ace322f9bba7"
      },
      "execution_count": null,
      "outputs": [
        {
          "output_type": "stream",
          "name": "stdout",
          "text": [
            "0.02247191011235955\n"
          ]
        }
      ]
    },
    {
      "cell_type": "code",
      "source": [
        "numerito = 10\n",
        "numerito_2 = float(numerito)  # transformamos el int 10 a un float\n",
        "\n",
        "print( numerito, numerito_2)\n"
      ],
      "metadata": {
        "colab": {
          "base_uri": "https://localhost:8080/"
        },
        "id": "Gbte0EKZzdid",
        "outputId": "bdecb9ba-068f-4b0b-83d0-7c3191749d92"
      },
      "execution_count": null,
      "outputs": [
        {
          "output_type": "stream",
          "name": "stdout",
          "text": [
            "10 10.0\n"
          ]
        }
      ]
    },
    {
      "cell_type": "markdown",
      "source": [
        "#### ⭐️**Ej 4: Diferenciando int y float**⭐️"
      ],
      "metadata": {
        "id": "TBs3t6Y4zRIi"
      }
    },
    {
      "cell_type": "markdown",
      "source": [
        "Crea una variable de número entero y una float. Luego convierte el int a un float e imrpime ambos."
      ],
      "metadata": {
        "id": "QmlTezU55MJm"
      }
    },
    {
      "cell_type": "code",
      "source": [
        "variable_1 = 10\n",
        "decimal_1 = 0.12345\n",
        "variable_1 = float(variable_1)\n",
        "print (variable_1)\n",
        "print (float(variable_1))\n",
        "print (decimal_1)\n"
      ],
      "metadata": {
        "id": "XEs3QiBr0Bwi",
        "colab": {
          "base_uri": "https://localhost:8080/"
        },
        "outputId": "2e5b1496-e519-461d-e069-170fa5593a76"
      },
      "execution_count": 7,
      "outputs": [
        {
          "output_type": "stream",
          "name": "stdout",
          "text": [
            "10.0\n",
            "10.0\n",
            "0.12345\n"
          ]
        }
      ]
    },
    {
      "cell_type": "markdown",
      "source": [
        "### **Bool** ✔️❌"
      ],
      "metadata": {
        "id": "Ux3FDHhXHNmx"
      }
    },
    {
      "cell_type": "markdown",
      "source": [
        "Los `Bool` son variables que sólo pueden ser `True `(verdadeo) o `False` (falso). Es binario, es decir, no hay ningún valor entre medio (Es 0 o 1). Por lo tanto sirve mucho para realizar lógica. Mucho ojo con **Siempre escribirlo con mayúscula**"
      ],
      "metadata": {
        "id": "HltSyiBn5rHw"
      }
    },
    {
      "cell_type": "code",
      "source": [
        "gatito = True     #bool definido como verdadero o 1\n",
        "perrito = False   #otro bool definido como falso o 0\n",
        "\n",
        "\n",
        "print(gatito, perrito)"
      ],
      "metadata": {
        "id": "SPHXfd6Q6Gq-",
        "colab": {
          "base_uri": "https://localhost:8080/"
        },
        "outputId": "24cc2372-fe80-4575-c901-1a066c5dd8e0"
      },
      "execution_count": null,
      "outputs": [
        {
          "output_type": "stream",
          "name": "stdout",
          "text": [
            "True False\n"
          ]
        }
      ]
    },
    {
      "cell_type": "markdown",
      "source": [
        "Los Bool pueden crearse realizandole comparaciones al computador con `<` (menor que) , `>` (mayor que)  o `==` (igual), las cuales pueden ser verdaderas o falsas. **En python = no es lo mismo que ==**. El primero es para definir variables y el segundo para comparar."
      ],
      "metadata": {
        "id": "PFk-XR9E62s1"
      }
    },
    {
      "cell_type": "code",
      "source": [
        "pregunta = 10 < 8       #es 10 menor que 8? la variable guardada va a ser True o False\n",
        "print(pregunta)     \n",
        "\n",
        "print(20 > 10)            #es 20 mayor a 10?\n",
        "print(perrito == gatito)    #dada la caja anterior, es perrito igual a gatito?\n"
      ],
      "metadata": {
        "colab": {
          "base_uri": "https://localhost:8080/"
        },
        "id": "shpL2XD97IiP",
        "outputId": "460ed341-1503-44be-887b-53a8be040bea"
      },
      "execution_count": null,
      "outputs": [
        {
          "output_type": "stream",
          "name": "stdout",
          "text": [
            "False\n",
            "True\n",
            "False\n"
          ]
        }
      ]
    },
    {
      "cell_type": "markdown",
      "source": [
        "Casi todo se puede comparar."
      ],
      "metadata": {
        "id": "8TLuZ_SA-R8Q"
      }
    },
    {
      "cell_type": "code",
      "source": [
        "print( \"a\" == \"b\")\n",
        "print(120239103 < 1 )\n",
        "print(gatito == gatito)                 # se está comparando a sí mismo\n",
        "print(\"hola mundo\" == \"Hola Mundo\")     #si dos frases están escritas iguales pero con mayúsculas será considerado False\n",
        "print(\"hola mundo\" == \"hola mundo\")\n"
      ],
      "metadata": {
        "colab": {
          "base_uri": "https://localhost:8080/"
        },
        "id": "3x-m1dzE-ZGw",
        "outputId": "55525fb3-2bbc-485d-debd-bc50eb2166ac"
      },
      "execution_count": null,
      "outputs": [
        {
          "output_type": "stream",
          "name": "stdout",
          "text": [
            "False\n",
            "False\n",
            "True\n",
            "False\n",
            "True\n"
          ]
        }
      ]
    },
    {
      "cell_type": "markdown",
      "source": [
        "#### ⭐️**Ej 5: Mayor, menor o igual que...**⭐️"
      ],
      "metadata": {
        "id": "G6Dw43vNU-8p"
      }
    },
    {
      "cell_type": "markdown",
      "source": [
        "Ingresa dos variables con números del 1 al 100 y compáralos. Imprime una comparación de mayor que, menor que e igual. (Se esperan como respuesta 3 prints True o False)"
      ],
      "metadata": {
        "id": "DdjUQLEEVOpY"
      }
    },
    {
      "cell_type": "code",
      "source": [
        "var_5 = 80 < 8\n",
        "var_6 = (20>10)\n",
        "print(var_5)\n",
        "print(var_6)\n"
      ],
      "metadata": {
        "id": "i1I-Tn0hVF2w",
        "colab": {
          "base_uri": "https://localhost:8080/"
        },
        "outputId": "d805ce14-b188-4bb4-dd7f-11d140f8db2d"
      },
      "execution_count": 9,
      "outputs": [
        {
          "output_type": "stream",
          "name": "stdout",
          "text": [
            "False\n",
            "True\n"
          ]
        }
      ]
    },
    {
      "cell_type": "markdown",
      "source": [
        "### **Listas** 📁"
      ],
      "metadata": {
        "id": "Pr3Yf_f6F18R"
      }
    },
    {
      "cell_type": "markdown",
      "source": [
        "Las listas son conjuntos de datos ordenados numéricamente de izquierda a derecha. Todos los datos están dentro de los brackets `[]` y se separan por comas `,`."
      ],
      "metadata": {
        "id": "DB2IXyhfF6VT"
      }
    },
    {
      "cell_type": "code",
      "source": [
        "var_1 = \"Hola mundo!\"\n",
        "var_2 = 10\n",
        "var_3 = 0.4\n",
        "var_4 = True\n",
        "var_5 = []\n",
        "\n",
        "lista = [\"gato\", \"perro\", \"pato\", \"pollo\"] #una lista de nombres de animales\n",
        "lista_2 = [var_1, var_2, var_3, var_4, var_5]      #una lista con las variables que mencionamos más arriba\n",
        "\n",
        "print (lista)\n",
        "print (lista_2)\n"
      ],
      "metadata": {
        "colab": {
          "base_uri": "https://localhost:8080/"
        },
        "id": "NCGRfLFjHGY5",
        "outputId": "e11aa20e-7938-4f4e-c2a2-40eb055d68c3"
      },
      "execution_count": null,
      "outputs": [
        {
          "output_type": "stream",
          "name": "stdout",
          "text": [
            "['gato', 'perro', 'pato', 'pollo']\n",
            "['Hola mundo!', 10, 0.4, True, []]\n"
          ]
        }
      ]
    },
    {
      "cell_type": "markdown",
      "source": [
        "Como se ve en lista_2 , se pueden combinar todos los tipos de datos dentro de la lista, Incluso una lista dentro de una lista."
      ],
      "metadata": {
        "id": "JPGktvlYH0Vr"
      }
    },
    {
      "cell_type": "code",
      "source": [
        "lista_3 = [\"tipos de perros\",[\"chihuahua\", \"pastor alemán,\", \"husky\"]]  #una lista que contiene otra lista dentro con datos"
      ],
      "metadata": {
        "id": "VZY7GUMsIER7"
      },
      "execution_count": null,
      "outputs": []
    },
    {
      "cell_type": "markdown",
      "source": [
        "### **Type** 🔍"
      ],
      "metadata": {
        "id": "q6RPN6hoO2ah"
      }
    },
    {
      "cell_type": "markdown",
      "source": [
        "`type` es un comando para averiguar con qué tipo de dato se está tratando, lo cual puede ser muy útil cuando surgen errores en el código y no se sabe por qué:"
      ],
      "metadata": {
        "id": "QYuubtKzNODp"
      }
    },
    {
      "cell_type": "code",
      "source": [
        "var_1 = \"Hola mundo!\"\n",
        "var_2 = 10\n",
        "var_3 = 0.4\n",
        "var_4 = True\n",
        "var_5 = []\n",
        "\n",
        "print(type(var_1))  #imprimimos el tipo de dato que es la variable 1, no el dato én si mismo\n",
        "print(type(var_2))\n",
        "print(type(var_3))\n",
        "print(type(var_4))\n",
        "print(type(var_5))"
      ],
      "metadata": {
        "colab": {
          "base_uri": "https://localhost:8080/"
        },
        "id": "1aR4PgToNhe0",
        "outputId": "afd64005-28d6-4230-ccf5-3317632b09e0"
      },
      "execution_count": null,
      "outputs": [
        {
          "output_type": "stream",
          "name": "stdout",
          "text": [
            "<class 'str'>\n",
            "<class 'int'>\n",
            "<class 'float'>\n",
            "<class 'bool'>\n",
            "<class 'list'>\n",
            "\n"
          ]
        }
      ]
    },
    {
      "cell_type": "markdown",
      "source": [
        "Si el tipo de dato no es el que corresponde, redefinir qué tipo de variable es colocandólo dentro de un paréntesis (como `int(10) `o `str(29381)`). "
      ],
      "metadata": {
        "id": "Pt8HoG9sWABU"
      }
    },
    {
      "cell_type": "code",
      "source": [
        "mi_variable = int(\"10\")         #aquí se está cambiando la misma variable a otros tipos\n",
        "print(type(mi_variable))\n",
        "print((mi_variable))\n",
        "\n",
        "mi_variable = str(mi_variable)   #de int a str       \n",
        "print(type(mi_variable))\n",
        "print((mi_variable))\n",
        "\n",
        "mi_variable = float(mi_variable)   #de str a float\n",
        "print(type(mi_variable))\n",
        "print((mi_variable))\n",
        "\n",
        "mi_variable = int(mi_variable)    #de float a int\n",
        "print(type(mi_variable))\n",
        "print((mi_variable))"
      ],
      "metadata": {
        "id": "oSYTrpkp2YWT"
      },
      "execution_count": null,
      "outputs": []
    },
    {
      "cell_type": "markdown",
      "source": [
        "Pero estos cambios solo se pueden hacer entre variables que sean compatibles entre ellas:"
      ],
      "metadata": {
        "id": "W7AlOc74O6ex"
      }
    },
    {
      "cell_type": "code",
      "source": [
        "mi_variable = bool(mi_variable)       #intentamos transformar cualquier cosa a un bool, te va a dar True siempre que no sea 0\n",
        "print (mi_variable)"
      ],
      "metadata": {
        "colab": {
          "base_uri": "https://localhost:8080/"
        },
        "id": "iq71tM2XPBJb",
        "outputId": "fcb417a7-4d2e-4c07-fee3-919f74b5d99a"
      },
      "execution_count": null,
      "outputs": [
        {
          "output_type": "stream",
          "name": "stdout",
          "text": [
            "True\n"
          ]
        }
      ]
    },
    {
      "cell_type": "code",
      "source": [
        "otra_variable = int(\"hola\")      #no poedmos transformar nada que no sea un número a int o float   \n",
        "print(otra_variable)"
      ],
      "metadata": {
        "colab": {
          "base_uri": "https://localhost:8080/",
          "height": 183
        },
        "id": "UlptgXI_Pyew",
        "outputId": "8c4b5b8e-53bb-4073-8cdd-4aadc9c68d10"
      },
      "execution_count": null,
      "outputs": [
        {
          "output_type": "error",
          "ename": "ValueError",
          "evalue": "ignored",
          "traceback": [
            "\u001b[0;31m---------------------------------------------------------------------------\u001b[0m",
            "\u001b[0;31mValueError\u001b[0m                                Traceback (most recent call last)",
            "\u001b[0;32m<ipython-input-23-d6b172fce5d5>\u001b[0m in \u001b[0;36m<cell line: 1>\u001b[0;34m()\u001b[0m\n\u001b[0;32m----> 1\u001b[0;31m \u001b[0motra_variable\u001b[0m \u001b[0;34m=\u001b[0m \u001b[0mint\u001b[0m\u001b[0;34m(\u001b[0m\u001b[0;34m\"hola\"\u001b[0m\u001b[0;34m)\u001b[0m      \u001b[0;31m#no poedmos transformar nada que no sea un número a int o float\u001b[0m\u001b[0;34m\u001b[0m\u001b[0;34m\u001b[0m\u001b[0m\n\u001b[0m\u001b[1;32m      2\u001b[0m \u001b[0mprint\u001b[0m\u001b[0;34m(\u001b[0m\u001b[0motra_variable\u001b[0m\u001b[0;34m)\u001b[0m\u001b[0;34m\u001b[0m\u001b[0;34m\u001b[0m\u001b[0m\n",
            "\u001b[0;31mValueError\u001b[0m: invalid literal for int() with base 10: 'hola'"
          ]
        }
      ]
    },
    {
      "cell_type": "markdown",
      "source": [
        "## **Comentarios** 💬"
      ],
      "metadata": {
        "id": "AAAB3msnyPtx"
      }
    },
    {
      "cell_type": "markdown",
      "source": [
        "Los comentarios son textos que se dejan en el código para explicar lo que está pasando, no inciden en su funcionamiento, si no que sirven para comunicarse entre las personas que ven el código:"
      ],
      "metadata": {
        "id": "Ktq2WIHrONVT"
      }
    },
    {
      "cell_type": "code",
      "source": [
        "#Esto es un comentario de 1 línea\n",
        "mi_variable = 10    #esto es otro comentario"
      ],
      "metadata": {
        "id": "rG8Smj5pt9s4"
      },
      "execution_count": null,
      "outputs": []
    },
    {
      "cell_type": "code",
      "source": [
        "\"\"\"\n",
        "Esto es un\n",
        "comentario de\n",
        "múltiples líneas\n",
        "\"\"\""
      ],
      "metadata": {
        "id": "fDnmF5aFvHYF"
      },
      "execution_count": null,
      "outputs": []
    },
    {
      "cell_type": "markdown",
      "source": [
        "## **Input** 📢"
      ],
      "metadata": {
        "id": "DZgzj5Dl6dNz"
      }
    },
    {
      "cell_type": "markdown",
      "source": [
        "Ahora, no solo queremos mandar mensajes al usuario, si no que ellos nos brinden información también. Para ello está `input()` Esto crea un cuadrado donde la persona responde lo que sea que se indique en el texto, y a partir de ello crea una variable. "
      ],
      "metadata": {
        "id": "RtWSDfJsSTNY"
      }
    },
    {
      "cell_type": "code",
      "source": [
        "comida_fav = input(\"Ingresa tu comida favorita: \")\n",
        "print(comida_fav)"
      ],
      "metadata": {
        "colab": {
          "base_uri": "https://localhost:8080/"
        },
        "id": "Lhd9o40W6gOV",
        "outputId": "d7c43e66-c4cb-4164-d3fd-6de12af64af0"
      },
      "execution_count": null,
      "outputs": [
        {
          "output_type": "stream",
          "name": "stdout",
          "text": [
            "Ingresa tu comida favorita: fideos\n",
            "fideos\n"
          ]
        }
      ]
    },
    {
      "cell_type": "markdown",
      "source": [
        "Por default el input simepre va a guardar una variable `string`, y si se desea de otra manera hay que colocar todo el input dentro de un paréntesis, por ejemplo, si queremos ocupar números para realizar operaciones se tienen que pasar todos a `int()` o `float()`:"
      ],
      "metadata": {
        "id": "-oZ6NGijS5bp"
      }
    },
    {
      "cell_type": "code",
      "source": [
        "nombre = input(\"¿Cuál es tu nombre?: \")\n",
        "edad = int(input(\"¿Cuántos años tienes?: \"))\n",
        "\n",
        "print(nombre, \"tiene\", edad, \"años, por lo que probablemente nació entre\", 2023-edad,\" y\", 2022-edad)\n",
        "\n",
        "#prueba poniendole play e ingresa datos tuyos :3\n"
      ],
      "metadata": {
        "colab": {
          "base_uri": "https://localhost:8080/"
        },
        "id": "ezj8hJvuTQ3Q",
        "outputId": "4d0c341a-f3b5-44ce-e84d-16776e1dd9d5"
      },
      "execution_count": null,
      "outputs": [
        {
          "output_type": "stream",
          "name": "stdout",
          "text": [
            "¿Cuál es tu nombre?: Ari\n",
            "¿Cuántos años tienes?: 22\n",
            "Ari tiene 22 años, por lo que probablemente nació entre 2001  y 2000\n"
          ]
        }
      ]
    },
    {
      "cell_type": "markdown",
      "source": [
        "### ⭐️**Ej 6: Python, suma por mi porfa :)**⭐️"
      ],
      "metadata": {
        "id": "4fDvhXmKLLVt"
      }
    },
    {
      "cell_type": "markdown",
      "source": [
        "Crea un código de manera que el usuario pueda ingresar dos números, los cuales se sumen y devuelva el resultado por un print. "
      ],
      "metadata": {
        "id": "9yDmIRd_WgWA"
      }
    },
    {
      "cell_type": "code",
      "source": [
        "edad = int(input (\"¿cuantos años tienes?\"))\n",
        "año_cumpleaños = (int(input (\"¿cual es tu año de cumpleaños?\")))\n",
        "print (\"tu\", edad,\"sumando con tu año de nacimiento\", año_cumpleaños,\"Es\", edad + año cumpleaños)"
      ],
      "metadata": {
        "id": "vhHsXRwIW0JR",
        "colab": {
          "base_uri": "https://localhost:8080/",
          "height": 130
        },
        "outputId": "1fd45d9f-160b-4033-898b-e61bf405adef"
      },
      "execution_count": 11,
      "outputs": [
        {
          "output_type": "error",
          "ename": "SyntaxError",
          "evalue": "ignored",
          "traceback": [
            "\u001b[0;36m  File \u001b[0;32m\"<ipython-input-11-848e654d7514>\"\u001b[0;36m, line \u001b[0;32m3\u001b[0m\n\u001b[0;31m    print (\"tu\", edad,\"sumando con tu año de nacimiento\", año_cumpleaños,\"Es\", edad + año cumpleaños)\u001b[0m\n\u001b[0m                                                                               ^\u001b[0m\n\u001b[0;31mSyntaxError\u001b[0m\u001b[0;31m:\u001b[0m invalid syntax. Perhaps you forgot a comma?\n"
          ]
        }
      ]
    },
    {
      "cell_type": "markdown",
      "source": [
        "### 🎉 **Fin, espero que les haya servido esta guía básica, no duden en preguntarnos presencial o por Discord** 🎉  "
      ],
      "metadata": {
        "id": "YarJMoRGW5Gb"
      }
    },
    {
      "cell_type": "markdown",
      "source": [
        "Pd: Puedes copiar y pegar todos los códidos anteriores para resolver los ejercicios, la idea es entender *cuál* código necesitan ;)"
      ],
      "metadata": {
        "id": "KitvjYJjXVjb"
      }
    },
    {
      "cell_type": "markdown",
      "source": [
        "Pd2: Están muy invitados a modificar y explorar con los códigos ejemplo de esta página, no tienen por qué solo ocupar los espacios de ejercicio."
      ],
      "metadata": {
        "id": "RapkOleBfeD4"
      }
    },
    {
      "cell_type": "markdown",
      "source": [
        "Pd3: ¿Sabías que puedes poner gatitos en la barra superior del Colab? 🐱"
      ],
      "metadata": {
        "id": "dthSvgZYhHDh"
      }
    }
  ]
}